{
 "cells": [
  {
   "cell_type": "code",
   "execution_count": 2,
   "metadata": {},
   "outputs": [
    {
     "name": "stdout",
     "output_type": "stream",
     "text": [
      "Optimizing a Multiplication Gate Output to 50.\n",
      "5.0 * 5.0 = 25.0\n",
      "7.5 * 5.0 = 37.5\n",
      "8.75 * 5.0 = 43.75\n",
      "9.375 * 5.0 = 46.875\n",
      "9.6875 * 5.0 = 48.4375\n",
      "9.84375 * 5.0 = 49.21875\n",
      "9.921875 * 5.0 = 49.609375\n",
      "9.9609375 * 5.0 = 49.804688\n",
      "9.980469 * 5.0 = 49.902344\n",
      "9.990234 * 5.0 = 49.95117\n"
     ]
    }
   ],
   "source": [
    "# 論理ゲートの実装\n",
    "import tensorflow as tf\n",
    "import numpy as np\n",
    "\n",
    "\n",
    "# グラフセッションを開始\n",
    "sess = tf.Session()\n",
    "\n",
    "# モデル変数、入力データ、プレースホルダの設定\n",
    "a = tf.Variable(0.)\n",
    "x_val = 5.\n",
    "x_data = tf.placeholder(dtype=tf.float32)\n",
    "\n",
    "# 計算グラフに論理ゲートを追加\n",
    "multiplication = tf.multiply(a, x_data)\n",
    "\n",
    "# 損失関数を設定\n",
    "loss = tf.square(tf.subtract(multiplication, 50.))\n",
    "\n",
    "# モデル変数を初期化\n",
    "init = tf.global_variables_initializer()\n",
    "sess.run(init)\n",
    "\n",
    "# 最適化関数に標準の勾配降下法を設定\n",
    "my_opt = tf.train.GradientDescentOptimizer(0.01)\n",
    "train_step = my_opt.minimize(loss)\n",
    "\n",
    "\n",
    "print('Optimizing a Multiplication Gate Output to 50.')\n",
    "for i in range(10):\n",
    "#  トレーニングステップを実行\n",
    "    sess.run(train_step, feed_dict={x_data: x_val})\n",
    "#  aの値を取得\n",
    "    a_val = sess.run(a)\n",
    "#  論理ゲートの出力を計算\n",
    "    mult_output = sess.run(multiplication, feed_dict={x_data: x_val})\n",
    "    print(str(a_val) + ' * ' + str(x_val) + ' = ' + str(mult_output))"
   ]
  },
  {
   "cell_type": "code",
   "execution_count": null,
   "metadata": {},
   "outputs": [],
   "source": []
  },
  {
   "cell_type": "code",
   "execution_count": null,
   "metadata": {},
   "outputs": [],
   "source": []
  },
  {
   "cell_type": "code",
   "execution_count": null,
   "metadata": {},
   "outputs": [],
   "source": []
  }
 ],
 "metadata": {
  "kernelspec": {
   "display_name": "Python 3",
   "language": "python",
   "name": "python3"
  },
  "language_info": {
   "codemirror_mode": {
    "name": "ipython",
    "version": 3
   },
   "file_extension": ".py",
   "mimetype": "text/x-python",
   "name": "python",
   "nbconvert_exporter": "python",
   "pygments_lexer": "ipython3",
   "version": "3.6.5"
  }
 },
 "nbformat": 4,
 "nbformat_minor": 2
}
