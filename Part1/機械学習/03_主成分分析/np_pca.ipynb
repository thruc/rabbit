{
 "cells": [
  {
   "cell_type": "markdown",
   "metadata": {},
   "source": [
    "# 主成分分析"
   ]
  },
  {
   "cell_type": "code",
   "execution_count": 1,
   "metadata": {},
   "outputs": [],
   "source": [
    "%matplotlib inline\n",
    "import numpy as np\n",
    "import matplotlib.pyplot as plt"
   ]
  },
  {
   "cell_type": "markdown",
   "metadata": {},
   "source": [
    "## 訓練データ生成"
   ]
  },
  {
   "cell_type": "code",
   "execution_count": 2,
   "metadata": {},
   "outputs": [],
   "source": [
    "n_sample = 100\n",
    "\n",
    "def gen_data(n_sample):\n",
    "    mean = [0, 0]\n",
    "    cov = [[2, 0.7], [0.7, 1]]\n",
    "    return np.random.multivariate_normal(mean, cov, n_sample)\n",
    "\n",
    "def plt_data(X):\n",
    "    plt.scatter(X[:, 0], X[:, 1])\n",
    "    plt.xlim(-5, 5)\n",
    "    plt.ylim(-5, 5)"
   ]
  },
  {
   "cell_type": "code",
   "execution_count": 3,
   "metadata": {},
   "outputs": [
    {
     "data": {
      "image/png": "[encoded data removed]",
      "text/plain": [
       "<Figure size 432x288 with 1 Axes>"
      ]
     },
     "metadata": {
      "needs_background": "light"
     },
     "output_type": "display_data"
    }
   ],
   "source": [
    "X = gen_data(n_sample)\n",
    "plt_data(X)"
   ]
  },
  {
   "cell_type": "markdown",
   "metadata": {},
   "source": [
    "## 学習"
   ]
  },
  {
   "cell_type": "markdown",
   "metadata": {},
   "source": [
    "訓練データ$X = [\\boldsymbol{x}_{1}, \\boldsymbol{x}_{2}, ..., \\boldsymbol{x}_{n}]^{\\mathrm{T}}$に対して$\\mathbb{E}[\\boldsymbol{x}] = \\boldsymbol{0}$となるように変換する。\n",
    "\n",
    "すると、不偏共分散行列は$Var[\\boldsymbol{x}] = \\frac{1}{n-1} X^{\\mathrm{T}}X$と書ける。\n",
    "\n",
    "$Var[\\boldsymbol{x}]$を固有値分解し、固有値の大きい順に対応する固有ベクトルを第1主成分($\\boldsymbol{w}_{1}$), 第2主成分($\\boldsymbol{w}_{2}$), ...とよぶ。"
   ]
  },
  {
   "cell_type": "code",
   "execution_count": 4,
   "metadata": {
    "scrolled": true
   },
   "outputs": [],
   "source": [
    "n_components=2\n",
    "\n",
    "def get_moments(X):\n",
    "    mean = X.mean(axis=0)\n",
    "    stan_cov = np.dot((X - mean).T, X - mean) / (len(X) - 1)\n",
    "    return mean, stan_cov\n",
    "    \n",
    "def get_components(eigenvectors, n_components):\n",
    "#     W = eigenvectors[:, -n_components:]\n",
    "#     return W.T[::-1]\n",
    "    W = eigenvectors[:, ::-1][:, :n_components]\n",
    "    return W.T\n",
    "\n",
    "def plt_result(X, first, second):\n",
    "    plt.scatter(X[:, 0], X[:, 1])\n",
    "    plt.xlim(-5, 5)\n",
    "    plt.ylim(-5, 5)\n",
    "    # 第１主成分\n",
    "    plt.quiver(0, 0, first[0], first[1], width=0.01, scale=6, color='red')\n",
    "    # 第２主成分\n",
    "    plt.quiver(0, 0, second[0], second[1], width=0.01, scale=6, color='green')"
   ]
  },
  {
   "cell_type": "code",
   "execution_count": 5,
   "metadata": {},
   "outputs": [
    {
     "data": {
      "image/png": "[encoded data removed]",
      "text/plain": [
       "<Figure size 432x288 with 1 Axes>"
      ]
     },
     "metadata": {
      "needs_background": "light"
     },
     "output_type": "display_data"
    }
   ],
   "source": [
    "#分散共分散行列を標準化\n",
    "meean, stan_cov = get_moments(X)\n",
    "#固有値と固有ベクトルを計算\n",
    "eigenvalues, eigenvectors = np.linalg.eigh(stan_cov)\n",
    "components = get_components(eigenvectors, n_components)\n",
    "\n",
    "plt_result(X, eigenvectors[0, :], eigenvectors[1, :])"
   ]
  },
  {
   "cell_type": "markdown",
   "metadata": {},
   "source": [
    "## 変換（射影）"
   ]
  },
  {
   "cell_type": "markdown",
   "metadata": {},
   "source": [
    "元のデータを$m$次元に変換(射影)するときは行列$W$を$W=[\\boldsymbol{w}_{1}, \\boldsymbol{w}_{2}, \\cdots, \\boldsymbol{w}_{m}]$とし、データ点$\\boldsymbol{x}$を$\\boldsymbol{z} = W^{\\mathrm{T}} \\boldsymbol{x}$によって変換(射影)する。\n",
    "\n",
    "よって、データ$X$に対しては$Z = X^{\\mathrm{T}}W$によって変換する。"
   ]
  },
  {
   "cell_type": "code",
   "execution_count": 6,
   "metadata": {},
   "outputs": [],
   "source": [
    "def transform_by_pca(X, pca):\n",
    "    mean = X.mean(axis=0)\n",
    "    return np.dot(X-mean, components)"
   ]
  },
  {
   "cell_type": "code",
   "execution_count": 7,
   "metadata": {},
   "outputs": [
    {
     "data": {
      "text/plain": [
       "(-5, 5)"
      ]
     },
     "execution_count": 7,
     "metadata": {},
     "output_type": "execute_result"
    },
    {
     "data": {
      "image/png": "[encoded data removed]",
      "text/plain": [
       "<Figure size 432x288 with 1 Axes>"
      ]
     },
     "metadata": {
      "needs_background": "light"
     },
     "output_type": "display_data"
    }
   ],
   "source": [
    "Z = transform_by_pca(X, components.T)\n",
    "plt.scatter(Z[:, 0], Z[:, 1])\n",
    "plt.xlim(-5, 5)\n",
    "plt.ylim(-5, 5)"
   ]
  },
  {
   "cell_type": "markdown",
   "metadata": {
    "collapsed": true
   },
   "source": [
    "## 逆変換"
   ]
  },
  {
   "cell_type": "markdown",
   "metadata": {},
   "source": [
    "射影されたデータ点$\\boldsymbol{z}$を元のデータ空間へ逆変換するときは$\\bar{\\boldsymbol{x}} = (W^{\\mathrm{T}})^{-1} \\boldsymbol{z} = W \\boldsymbol{z}$によって変換する。\n",
    "\n",
    "よって、射影されたデータ$Z$に対しては$\\bar{X} = ZW^{\\mathrm{T}}$によって変換する。"
   ]
  },
  {
   "cell_type": "code",
   "execution_count": 8,
   "metadata": {},
   "outputs": [],
   "source": [
    "mean = X.mean(axis=0)\n",
    "X_ = np.dot(Z, components.T) + mean"
   ]
  },
  {
   "cell_type": "code",
   "execution_count": 9,
   "metadata": {},
   "outputs": [
    {
     "data": {
      "text/plain": [
       "(-5, 5)"
      ]
     },
     "execution_count": 9,
     "metadata": {},
     "output_type": "execute_result"
    },
    {
     "data": {
      "image/png": "[encoded data removed]",
      "text/plain": [
       "<Figure size 432x288 with 1 Axes>"
      ]
     },
     "metadata": {
      "needs_background": "light"
     },
     "output_type": "display_data"
    }
   ],
   "source": [
    "plt.scatter(X_[:, 0], X_[:, 1])\n",
    "plt.xlim(-5, 5)\n",
    "plt.ylim(-5, 5)"
   ]
  },
  {
   "cell_type": "code",
   "execution_count": 10,
   "metadata": {},
   "outputs": [
    {
     "data": {
      "text/plain": [
       "PCA(copy=True, iterated_power='auto', n_components=2, random_state=None,\n",
       "  svd_solver='auto', tol=0.0, whiten=False)"
      ]
     },
     "execution_count": 10,
     "metadata": {},
     "output_type": "execute_result"
    }
   ],
   "source": [
    "from sklearn.decomposition import PCA\n",
    "pca = PCA(n_components=2)\n",
    "pca.fit(X)"
   ]
  },
  {
   "cell_type": "code",
   "execution_count": 11,
   "metadata": {},
   "outputs": [
    {
     "name": "stdout",
     "output_type": "stream",
     "text": [
      "components: [[-0.89924164 -0.43745225]\n",
      " [-0.43745225  0.89924164]]\n",
      "mean: [0.09825457 0.06308656]\n",
      "covariance: [[2.06974374 0.72079485]\n",
      " [0.72079485 0.93869708]]\n"
     ]
    }
   ],
   "source": [
    "print('components: {}'.format(pca.components_))\n",
    "print('mean: {}'.format(pca.mean_))\n",
    "print('covariance: {}'.format(pca.get_covariance())) "
   ]
  },
  {
   "cell_type": "code",
   "execution_count": 12,
   "metadata": {},
   "outputs": [
    {
     "data": {
      "image/png": "[encoded data removed]",
      "text/plain": [
       "<Figure size 432x288 with 1 Axes>"
      ]
     },
     "metadata": {
      "needs_background": "light"
     },
     "output_type": "display_data"
    }
   ],
   "source": [
    "plt_result(X, pca.components_[0, :], pca.components_[1, :])"
   ]
  },
  {
   "cell_type": "code",
   "execution_count": 13,
   "metadata": {},
   "outputs": [
    {
     "name": "stdout",
     "output_type": "stream",
     "text": [
      "components: [[-0.89924164 -0.43745225]\n",
      " [-0.43745225  0.89924164]]\n",
      "mean: [0.09825457 0.06308656]\n",
      "covariance: [[2.06974374 0.72079485]\n",
      " [0.72079485 0.93869708]]\n"
     ]
    },
    {
     "data": {
      "image/png": "[encoded data removed]",
      "text/plain": [
       "<Figure size 432x288 with 1 Axes>"
      ]
     },
     "metadata": {
      "needs_background": "light"
     },
     "output_type": "display_data"
    }
   ],
   "source": [
    "from sklearn.decomposition import PCA\n",
    "pca = PCA(n_components=2)\n",
    "pca.fit(X)\n",
    "plt_result(X, pca.components_[0, :], pca.components_[1, :])\n",
    "\n",
    "print('components: {}'.format(pca.components_))\n",
    "print('mean: {}'.format(pca.mean_))\n",
    "print('covariance: {}'.format(pca.get_covariance()))\n"
   ]
  },
  {
   "cell_type": "code",
   "execution_count": null,
   "metadata": {},
   "outputs": [],
   "source": []
  }
 ],
 "metadata": {
  "kernelspec": {
   "display_name": "Python 3",
   "language": "python",
   "name": "python3"
  },
  "language_info": {
   "codemirror_mode": {
    "name": "ipython",
    "version": 3
   },
   "file_extension": ".py",
   "mimetype": "text/x-python",
   "name": "python",
   "nbconvert_exporter": "python",
   "pygments_lexer": "ipython3",
   "version": "3.7.1"
  }
 },
 "nbformat": 4,
 "nbformat_minor": 2
}
