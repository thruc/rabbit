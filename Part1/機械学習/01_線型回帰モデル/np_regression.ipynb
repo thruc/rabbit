{
  "nbformat": 4,
  "nbformat_minor": 0,
  "metadata": {
    "kernelspec": {
      "display_name": "Python 3",
      "language": "python",
      "name": "python3"
    },
    "language_info": {
      "codemirror_mode": {
        "name": "ipython",
        "version": 3
      },
      "file_extension": ".py",
      "mimetype": "text/x-python",
      "name": "python",
      "nbconvert_exporter": "python",
      "pygments_lexer": "ipython3",
      "version": "3.7.1"
    },
    "colab": {
      "name": "np_regression.ipynb",
      "provenance": []
    }
  },
  "cells": [
    {
      "cell_type": "markdown",
      "metadata": {
        "id": "tGTtzNc4D0OK",
        "colab_type": "text"
      },
      "source": [
        "# 回帰分析"
      ]
    },
    {
      "cell_type": "code",
      "metadata": {
        "id": "x8SvxKnUD0OL",
        "colab_type": "code",
        "colab": {}
      },
      "source": [
        "%matplotlib inline\n",
        "import numpy as np\n",
        "import matplotlib.pyplot as plt"
      ],
      "execution_count": 0,
      "outputs": []
    },
    {
      "cell_type": "markdown",
      "metadata": {
        "id": "tJHVX4ryD0OP",
        "colab_type": "text"
      },
      "source": [
        "# 単回帰"
      ]
    },
    {
      "cell_type": "markdown",
      "metadata": {
        "id": "KZ0vZqzDD0OQ",
        "colab_type": "text"
      },
      "source": [
        "## 訓練データ生成"
      ]
    },
    {
      "cell_type": "code",
      "metadata": {
        "id": "HlqP4s8MD0OQ",
        "colab_type": "code",
        "colab": {}
      },
      "source": [
        "n_sample = 100\n",
        "var = .2\n",
        "\n",
        "def linear_func(x):\n",
        "    return 2 * x + 5\n",
        "\n",
        "def add_noise(y_true, var):\n",
        "    return y_true + np.random.normal(scale=var, size=y_true.shape)\n",
        "\n",
        "def plt_result(xs_train, ys_true, ys_train):\n",
        "    plt.scatter(xs_train, ys_train, facecolor=\"none\", edgecolor=\"b\", s=50,  label=\"training data\")\n",
        "    plt.plot(xs_train, ys_true, label=\"$2 x + 5$\")\n",
        "    plt.legend()"
      ],
      "execution_count": 0,
      "outputs": []
    },
    {
      "cell_type": "code",
      "metadata": {
        "id": "m6-B-2sPD0OT",
        "colab_type": "code",
        "colab": {
          "base_uri": "https://localhost:8080/",
          "height": 319
        },
        "outputId": "3f984e8c-25f0-4e2e-ee96-8a23bcf48e94"
      },
      "source": [
        "#データの作成\n",
        "xs = np.linspace(0, 1, n_sample)\n",
        "ys_true = linear_func(xs)\n",
        "ys = add_noise(ys_true, var)\n",
        "\n",
        "print(\"xs: {}\".format(xs.shape))\n",
        "print(\"ys_true: {}\".format(ys_true.shape))\n",
        "print(\"ys: {}\".format(ys.shape))\n",
        "\n",
        "#結果の描画\n",
        "plt_result(xs, ys_true, ys)"
      ],
      "execution_count": 3,
      "outputs": [
        {
          "output_type": "stream",
          "text": [
            "xs: (100,)\n",
            "ys_true: (100,)\n",
            "ys: (100,)\n"
          ],
          "name": "stdout"
        },
        {
          "output_type": "display_data",
          "data": {
            "image/png": "[encoded data removed]",
            "text/plain": [
              "<Figure size 432x288 with 1 Axes>"
            ]
          },
          "metadata": {
            "tags": [],
            "needs_background": "light"
          }
        }
      ]
    },
    {
      "cell_type": "markdown",
      "metadata": {
        "id": "O8MePTMmD0OZ",
        "colab_type": "text"
      },
      "source": [
        "## 学習"
      ]
    },
    {
      "cell_type": "markdown",
      "metadata": {
        "id": "KhVs_LLND0Oa",
        "colab_type": "text"
      },
      "source": [
        "１次関数$y(x) = a x + b$における、$a$と$b$を求める。\n",
        "\n",
        "訓練データ$X = [x_{1}, x_{2}, ..., x_{n}]^{\\mathrm{T}}, \\boldsymbol{y} = [y_{1}, y_{2}, ..., y_{n}]^{\\mathrm{T}}$に対して、最小化する目的関数は$L = \\sum_{i=1}^{n} \\left( y_{i} - (a x_{i} + b) \\right)^2$と書け、\n",
        "\n",
        "$\\frac{\\partial L}{\\partial a} = -2\\sum_{i=1}^{n} \\left( y_{i} - (a x_{i} + b) \\right) x_{i} = 0$\n",
        "\n",
        "$\\frac{\\partial L}{\\partial b} = -2\\sum_{i=1}^{n} \\left( y_{i} - (a x_{i} + b) \\right) = 0 \\cdots (1)$\n",
        "\n",
        "より、目的関数を最小にする$a, b$は以下のように求まる。\n",
        "\n",
        "\\begin{eqnarray}\n",
        "\\left( \n",
        "\\begin{array}{cc}\n",
        "\\sum_{i=1}^{n} x_{i}^{2} & \\sum_{i=1}^{n} x_{i} \\\\\n",
        "\\sum_{i=1}^{n} x_{i} & n\n",
        "\\end{array}\n",
        "\\right)\n",
        "\\left( \n",
        "\\begin{array}{cc}\n",
        "\\hat{a} \\\\\n",
        "\\hat{b}  \n",
        "\\end{array}\n",
        "\\right)\n",
        "&=&\n",
        "\\left( \n",
        "\\begin{array}{cc}\n",
        "\\sum_{i=1}^{n} x_{i} y_{i} \\\\\n",
        "\\sum_{i=1}^{n} y_{i}  \n",
        "\\end{array}\n",
        "\\right) \\\\ \n",
        "\\left( \n",
        "\\begin{array}{cc}\n",
        "\\hat{a} \\\\\n",
        "\\hat{b}  \n",
        "\\end{array}\n",
        "\\right)\n",
        "&=&\n",
        "\\frac{1}{n \\sum_{i=1}^{n} x_{i}^{2} - (\\sum_{i=1}^{n} x_{i})^{2}}\n",
        "\\left( \n",
        "\\begin{array}{cc}\n",
        "n & -\\sum_{i=1}^{n} x_{i} \\\\\n",
        "-\\sum_{i=1}^{n} x_{i} & \\sum_{i=1}^{n} x_{i}^{2}\n",
        "\\end{array}\n",
        "\\right)\n",
        "\\left( \n",
        "\\begin{array}{cc}\n",
        "\\sum_{i=1}^{n} x_{i} y_{i} \\\\\n",
        "\\sum_{i=1}^{n} y_{i}  \n",
        "\\end{array}\n",
        "\\right) \\\\\n",
        "&=&\n",
        "\\frac{1}{n \\sum_{i=1}^{n} x_{i}^{2} - (\\sum_{i=1}^{n} x_{i})^{2}}\n",
        "\\left( \n",
        "\\begin{array}{cc}\n",
        "n \\sum_{i=1}^{n} x_{i} y_{i} - \\sum_{i=1}^{n} x_{i} \\sum_{i=1}^{n} y_{i}\\\\\n",
        "\\sum_{i=1}^{n} x_{i}^{2} \\sum_{i=1}^{n} y_{i} -\\sum_{i=1}^{n} x_{i} \\sum_{i=1}^{n} x_{i} y_{i}\n",
        "\\end{array}\n",
        "\\right) \\cdots (2)\n",
        "\\end{eqnarray}\n",
        "\n",
        "(1), (2)から$\\hat{a} = \\text{Cov}[x, y] / \\text{Var}[x], \\hat{b} = \\mu_{y} - \\hat{a} \\mu_{x}$で求める。"
      ]
    },
    {
      "cell_type": "code",
      "metadata": {
        "id": "fjstcs20D0Oc",
        "colab_type": "code",
        "colab": {
          "base_uri": "https://localhost:8080/",
          "height": 89
        },
        "outputId": "49e957df-e44f-486b-820c-5f191d3dcebd"
      },
      "source": [
        "#numpy実装の回帰\n",
        "def train(xs, ys):\n",
        "    cov = np.cov(xs, ys, ddof=0)\n",
        "    a = cov[0, 1] / cov[0, 0]\n",
        "    b = np.mean(ys) - a * np.mean(xs)\n",
        "    return cov, a, b\n",
        "\n",
        "cov, a, b = train(xs, ys)\n",
        "print(\"cov: {}\".format(cov))\n",
        "print(\"coef: {}\".format(a))\n",
        "print(\"intercept: {}\".format(b))"
      ],
      "execution_count": 4,
      "outputs": [
        {
          "output_type": "stream",
          "text": [
            "cov: [[0.08501684 0.16818206]\n",
            " [0.16818206 0.37338108]]\n",
            "coef: 1.9782206771609632\n",
            "intercept: 5.047078079857949\n"
          ],
          "name": "stdout"
        }
      ]
    },
    {
      "cell_type": "code",
      "metadata": {
        "id": "r0SLm3GCD0Oh",
        "colab_type": "code",
        "colab": {
          "base_uri": "https://localhost:8080/",
          "height": 53
        },
        "outputId": "31313368-7eb6-4243-e692-afa5dd001b82"
      },
      "source": [
        "#skl実装の回帰\n",
        "from sklearn.linear_model import LinearRegression\n",
        "model = LinearRegression()\n",
        "reg = model.fit(xs.reshape(-1, 1), ys.reshape(-1, 1))\n",
        "\n",
        "print(\"coef_: {}\".format(reg.coef_))\n",
        "print(\"intercept_: {}\".format(reg.intercept_))"
      ],
      "execution_count": 5,
      "outputs": [
        {
          "output_type": "stream",
          "text": [
            "coef_: [[1.97822068]]\n",
            "intercept_: [5.04707808]\n"
          ],
          "name": "stdout"
        }
      ]
    },
    {
      "cell_type": "markdown",
      "metadata": {
        "id": "8-wrXFecD0Oo",
        "colab_type": "text"
      },
      "source": [
        "## 予測"
      ]
    },
    {
      "cell_type": "markdown",
      "metadata": {
        "id": "Mpl7p4eeD0Oq",
        "colab_type": "text"
      },
      "source": [
        "入力に対する値を$y(x) = a x + b$で予測する"
      ]
    },
    {
      "cell_type": "code",
      "metadata": {
        "id": "TqegSD1ND0Or",
        "colab_type": "code",
        "colab": {
          "base_uri": "https://localhost:8080/",
          "height": 265
        },
        "outputId": "0bc3c8e6-8126-4f91-acfc-86af8e7e43f1"
      },
      "source": [
        "xs_new = np.linspace(0, 1, n_sample)\n",
        "ys_pred = a * xs_new + b\n",
        "\n",
        "plt.scatter(xs, ys, facecolor=\"none\", edgecolor=\"b\", s=50, label=\"training data\")\n",
        "plt.plot(xs_new, ys_true, label=\"$2 x + 5$\")\n",
        "plt.plot(xs_new, ys_pred, label=\"prediction (a={:.2}, b={:.2})\".format(a, b))\n",
        "plt.legend()\n",
        "plt.show()"
      ],
      "execution_count": 6,
      "outputs": [
        {
          "output_type": "display_data",
          "data": {
            "image/png": "[encoded data removed]",
            "text/plain": [
              "<Figure size 432x288 with 1 Axes>"
            ]
          },
          "metadata": {
            "tags": [],
            "needs_background": "light"
          }
        }
      ]
    },
    {
      "cell_type": "markdown",
      "metadata": {
        "id": "6Avm6nx4D0Ov",
        "colab_type": "text"
      },
      "source": [
        "# 多項式回帰"
      ]
    },
    {
      "cell_type": "markdown",
      "metadata": {
        "id": "86_LGAWzD0Ov",
        "colab_type": "text"
      },
      "source": [
        "## 訓練データ生成"
      ]
    },
    {
      "cell_type": "code",
      "metadata": {
        "id": "QoKR4XATD0O0",
        "colab_type": "code",
        "colab": {}
      },
      "source": [
        "n_sample = 10\n",
        "var = .25\n",
        "\n",
        "def sin_func(x):\n",
        "    return np.sin(2 * np.pi * x) \n",
        "\n",
        "def add_noise(y_true, var):\n",
        "    return y_true + np.random.normal(scale=var, size=y_true.shape)\n",
        "\n",
        "def plt_result(xs, ys_true, ys):\n",
        "    plt.scatter(xs, ys,facecolor=\"none\", edgecolor=\"b\", s=50,  label=\"training data\")\n",
        "    plt.plot(xs, ys_true, label=\"$\\sin(2\\pi x)$\")\n",
        "    plt.legend()"
      ],
      "execution_count": 0,
      "outputs": []
    },
    {
      "cell_type": "code",
      "metadata": {
        "id": "aQiSyyizD0O8",
        "colab_type": "code",
        "colab": {
          "base_uri": "https://localhost:8080/",
          "height": 319
        },
        "outputId": "1103ebea-b407-4cde-a764-69e137814699"
      },
      "source": [
        "#データの作成\n",
        "xs = np.linspace(0, 1, n_sample)\n",
        "ys_true = sin_func(xs)\n",
        "ys = add_noise(ys_true, var)\n",
        "\n",
        "print(\"xs: {}\".format(xs.shape))\n",
        "print(\"ys_true: {}\".format(ys_true.shape))\n",
        "print(\"ys: {}\".format(ys.shape))\n",
        "\n",
        "#結果の描画\n",
        "plt_result(xs, ys_true, ys)"
      ],
      "execution_count": 8,
      "outputs": [
        {
          "output_type": "stream",
          "text": [
            "xs: (10,)\n",
            "ys_true: (10,)\n",
            "ys: (10,)\n"
          ],
          "name": "stdout"
        },
        {
          "output_type": "display_data",
          "data": {
            "image/png": "[encoded data removed]",
            "text/plain": [
              "<Figure size 432x288 with 1 Axes>"
            ]
          },
          "metadata": {
            "tags": [],
            "needs_background": "light"
          }
        }
      ]
    },
    {
      "cell_type": "markdown",
      "metadata": {
        "id": "KyLQISf8D0PC",
        "colab_type": "text"
      },
      "source": [
        "## 学習"
      ]
    },
    {
      "cell_type": "markdown",
      "metadata": {
        "id": "fYJOgkK_D0PD",
        "colab_type": "text"
      },
      "source": [
        "モデルとして以下を用いる。\n",
        "\n",
        "$y(x) = \\sum_{i=0}^{d} w_{i} x^{i} = \\boldsymbol{w}^{\\mathrm{T}} \\boldsymbol{\\phi(x)}$\n",
        "\n",
        "ただし、$\\boldsymbol{w}=[w_{0}, w_{1}, ..., w_{d}]^{\\mathrm{T}}, \\boldsymbol{\\phi(x)} = [1, x, x^{2}, ..., x^{d}]^{\\mathrm{T}}$である。\n",
        "\n",
        "訓練データ$X, \\boldsymbol{y}$に対しては\n",
        "$\\boldsymbol{y} = \\Phi \\boldsymbol{w}$と書ける。\n",
        "\n",
        "ただし、$\\Phi = [\\boldsymbol{\\phi}(x_{1}), \\boldsymbol{\\phi}(x_{2}),.., \\boldsymbol{\\phi}(x_{n})]^{\\mathrm{T}}$である。\n",
        "\n",
        "よって、最小化する目的関数は$L = ||\\boldsymbol{y}  - \\Phi \\boldsymbol{w}||^2$と書け、\n",
        "\n",
        "$\\frac{\\partial L}{\\partial \\boldsymbol{w}} = - 2 \\Phi^{\\mathrm{T}} (\\boldsymbol{y} - \\Phi \\boldsymbol{w}) = 0$より、求める回帰係数$\\boldsymbol{w}$は以下のように書ける。\n",
        "\n",
        "$\\hat{\\boldsymbol{w}} = \\left( \\Phi^{\\mathrm{T}} \\Phi \\right)^{-1}  \\Phi^{\\mathrm{T}} \\boldsymbol{y}$"
      ]
    },
    {
      "cell_type": "code",
      "metadata": {
        "id": "fE9lumePD0PE",
        "colab_type": "code",
        "colab": {}
      },
      "source": [
        "def polynomial_features(xs, degree=3):\n",
        "    \"\"\"多項式特徴ベクトルに変換\n",
        "         X = [[1, x1, x1^2, x1^3],\n",
        "                 [1, x2, x2^2, x2^3],\n",
        "                   ...                             \n",
        "                 [1, xn, xn^2, xn^3]]\"\"\"\n",
        "    X = np.ones((len(xs), degree+1))\n",
        "    X_t = X.T #(100, 4)\n",
        "    for i in range(1, degree+1):\n",
        "        X_t[i] = X_t[i-1] * xs\n",
        "    return X_t.T"
      ],
      "execution_count": 0,
      "outputs": []
    },
    {
      "cell_type": "code",
      "metadata": {
        "id": "TZGO_U9DD0PN",
        "colab_type": "code",
        "colab": {}
      },
      "source": [
        "Phi = polynomial_features(xs)\n",
        "Phi_inv = np.dot(np.linalg.inv(np.dot(Phi.T, Phi)), Phi.T)\n",
        "w = np.dot(Phi_inv, ys)"
      ],
      "execution_count": 0,
      "outputs": []
    },
    {
      "cell_type": "markdown",
      "metadata": {
        "id": "VUmhqAgMD0PW",
        "colab_type": "text"
      },
      "source": [
        "## 予測"
      ]
    },
    {
      "cell_type": "markdown",
      "metadata": {
        "id": "PEXRjxkhD0PX",
        "colab_type": "text"
      },
      "source": [
        "入力を多項式特徴ベクトル$\\boldsymbol{\\phi(x)}$に変換し、$y = \\hat{\\boldsymbol{w}} \\boldsymbol{\\phi(x)}\\  (\\boldsymbol{y}(x) = \\Phi \\hat{\\boldsymbol{w}})$で予測する。"
      ]
    },
    {
      "cell_type": "code",
      "metadata": {
        "id": "OxMHB70-D0PX",
        "colab_type": "code",
        "colab": {}
      },
      "source": [
        "Phi_test = polynomial_features(xs)\n",
        "ys_pred = np.dot(Phi_test, w)"
      ],
      "execution_count": 0,
      "outputs": []
    },
    {
      "cell_type": "code",
      "metadata": {
        "id": "cyF80C6pD0Pg",
        "colab_type": "code",
        "colab": {
          "base_uri": "https://localhost:8080/",
          "height": 265
        },
        "outputId": "7ea201c4-c873-4e3f-8b5e-ba9a89e75621"
      },
      "source": [
        "plt.scatter(xs, ys, facecolor=\"none\", edgecolor=\"b\", s=50, label=\"training data\")\n",
        "plt.plot(xs, ys_true, label=\"$\\sin(2\\pi x)$\")\n",
        "plt.plot(xs, ys_pred, label=\"prediction\")\n",
        "# for i in range(0, 4):\n",
        "#     plt.plot(xs, Phi[:, i], label=\"basis\")\n",
        "plt.legend()\n",
        "plt.show()"
      ],
      "execution_count": 12,
      "outputs": [
        {
          "output_type": "display_data",
          "data": {
            "image/png": "[encoded data removed]",
            "text/plain": [
              "<Figure size 432x288 with 1 Axes>"
            ]
          },
          "metadata": {
            "tags": [],
            "needs_background": "light"
          }
        }
      ]
    },
    {
      "cell_type": "markdown",
      "metadata": {
        "id": "ew560BoAD0Pk",
        "colab_type": "text"
      },
      "source": [
        "# 重回帰分析"
      ]
    },
    {
      "cell_type": "markdown",
      "metadata": {
        "id": "cC87iH4gD0Pl",
        "colab_type": "text"
      },
      "source": [
        "## 訓練データ生成 (3次元入力)"
      ]
    },
    {
      "cell_type": "code",
      "metadata": {
        "id": "a7HoLtPTD0Pn",
        "colab_type": "code",
        "colab": {
          "base_uri": "https://localhost:8080/",
          "height": 196
        },
        "outputId": "db530b95-bf7b-4199-b0ae-bc9faf60d818"
      },
      "source": [
        "np.random.random((10, 3))"
      ],
      "execution_count": 13,
      "outputs": [
        {
          "output_type": "execute_result",
          "data": {
            "text/plain": [
              "array([[0.8623466 , 0.80537842, 0.29231542],\n",
              "       [0.16291666, 0.62703188, 0.45760527],\n",
              "       [0.93698143, 0.14807608, 0.15269358],\n",
              "       [0.28417726, 0.83248085, 0.94272327],\n",
              "       [0.66892141, 0.18553458, 0.44696351],\n",
              "       [0.20982107, 0.11134149, 0.4910458 ],\n",
              "       [0.14627981, 0.51853433, 0.58264258],\n",
              "       [0.66113576, 0.57510778, 0.8648786 ],\n",
              "       [0.13570889, 0.83487374, 0.99815027],\n",
              "       [0.40966383, 0.72548636, 0.48435871]])"
            ]
          },
          "metadata": {
            "tags": []
          },
          "execution_count": 13
        }
      ]
    },
    {
      "cell_type": "code",
      "metadata": {
        "id": "JC-jBDMMD0Pr",
        "colab_type": "code",
        "colab": {}
      },
      "source": [
        "n_sample = 100\n",
        "var = .2\n",
        "\n",
        "def mul_linear_func(x):\n",
        "    global ww # 追加\n",
        "    ww = [1., 0.5, 2., 1.]\n",
        "    return ww[0] + ww[1] * x[:, 0] + ww[2] * x[:, 1] + ww[3] * x[:, 2]\n",
        "\n",
        "def add_noise(y_true, var):\n",
        "    return y_true + np.random.normal(scale=var, size=y_true.shape)\n",
        "\n",
        "def plt_result(xs_train, ys_true, ys_train):\n",
        "    plt.scatter(xs_train, ys_train, facecolor=\"none\", edgecolor=\"b\", s=50,  label=\"training data\")\n",
        "    plt.plot(xs_train, ys_true, label=\"$2 x + 5$\")\n",
        "    plt.legend()"
      ],
      "execution_count": 0,
      "outputs": []
    },
    {
      "cell_type": "code",
      "metadata": {
        "id": "hD90AlKTD0Px",
        "colab_type": "code",
        "colab": {}
      },
      "source": [
        "x_dim = 3\n",
        "\n",
        "X = np.random.random((n_sample, x_dim))\n",
        "ys_true = mul_linear_func(X)\n",
        "ys = add_noise(ys_true, var)"
      ],
      "execution_count": 0,
      "outputs": []
    },
    {
      "cell_type": "markdown",
      "metadata": {
        "id": "p9v1Tx0ND0P3",
        "colab_type": "text"
      },
      "source": [
        "## 学習"
      ]
    },
    {
      "cell_type": "markdown",
      "metadata": {
        "id": "RoYVGcfPD0P4",
        "colab_type": "text"
      },
      "source": [
        "モデルとして以下を用いる。\n",
        "\n",
        "$y(x) = \\sum_{i=0}^{d} w_{i} x_{i} = \\boldsymbol{w}^{\\mathrm{T}}  \\boldsymbol{x}$\n",
        "\n",
        "ただし、陽には書かないが、$\\boldsymbol{x}$には定数項のための$1$という要素があることを仮定する。\n",
        "\n",
        "訓練データ$X, \\boldsymbol{y}$に対しては$\\boldsymbol{y} = X \\boldsymbol{w}$と書ける。\n",
        "\n",
        "よって、最小化する目的関数は$L = ||\\boldsymbol{y}  - X \\boldsymbol{w}||^2$と書け、\n",
        "\n",
        "$\\frac{\\partial L}{\\partial \\boldsymbol{w}} = - 2 X^{\\mathrm{T}} (\\boldsymbol{y} - X \\boldsymbol{w}) = 0$より、求める回帰係数$\\boldsymbol{w}$は以下のように書ける。\n",
        "\n",
        "$\\hat{\\boldsymbol{w}} = \\left( X^{\\mathrm{T}} X \\right)^{-1}  X^{\\mathrm{T}} \\boldsymbol{y}$"
      ]
    },
    {
      "cell_type": "code",
      "metadata": {
        "id": "lINHkgeBD0P5",
        "colab_type": "code",
        "colab": {}
      },
      "source": [
        "def add_one(x):\n",
        "    return np.concatenate([np.ones(len(x))[:, None], x], axis=1)\n",
        "\n",
        "X_train = add_one(X)\n",
        "# pinv = np.dot(np.linalg.inv(np.dot(X_train.T, X_train)), X_train.T)\n",
        "# w = np.dot(pinv, y_train)"
      ],
      "execution_count": 0,
      "outputs": []
    },
    {
      "cell_type": "markdown",
      "metadata": {
        "id": "HjVbQQoVD0P_",
        "colab_type": "text"
      },
      "source": [
        "## 予測"
      ]
    },
    {
      "cell_type": "markdown",
      "metadata": {
        "id": "m_ZvcLprD0P_",
        "colab_type": "text"
      },
      "source": [
        "入力に対する値を$y(x) = \\hat{\\boldsymbol{w}}^{\\mathrm{T}}  \\boldsymbol{x} \\ (\\boldsymbol{y} = X\\hat{\\boldsymbol{w}})$で予測する"
      ]
    },
    {
      "cell_type": "markdown",
      "metadata": {
        "id": "ndoj8l-LD0QA",
        "colab_type": "text"
      },
      "source": [
        "## パラメータ推定結果"
      ]
    },
    {
      "cell_type": "code",
      "metadata": {
        "id": "2phYwQdJD0QA",
        "colab_type": "code",
        "colab": {
          "base_uri": "https://localhost:8080/",
          "height": 89
        },
        "outputId": "492725eb-dd13-4f21-e1cb-2f949102c320"
      },
      "source": [
        "for i in range(len(w)):\n",
        "    print(\"w{0}_true: {1:>5.2}   w{0}_estimated: {2:>5.2}\".format(i, ww[i], w[i]))"
      ],
      "execution_count": 17,
      "outputs": [
        {
          "output_type": "stream",
          "text": [
            "w0_true:   1.0   w0_estimated: -0.056\n",
            "w1_true:   0.5   w1_estimated: 1.1e+01\n",
            "w2_true:   2.0   w2_estimated: -3.3e+01\n",
            "w3_true:   1.0   w3_estimated: 2.1e+01\n"
          ],
          "name": "stdout"
        }
      ]
    },
    {
      "cell_type": "code",
      "metadata": {
        "id": "q5TkIzVOD0QD",
        "colab_type": "code",
        "colab": {}
      },
      "source": [
        ""
      ],
      "execution_count": 0,
      "outputs": []
    }
  ]
}